{
 "cells": [
  {
   "cell_type": "markdown",
   "source": [
    "# Tasks\n",
    "\n",
    "Tasks are the basis of this library. A task is just a pair of a DatasetLoader and TrainableModel. Currently,\n",
    "we only support \"ClassificationTask\"s. \n",
    "You create one using a TaskBuilder, ensuring to add a model and dataset loader:"
   ],
   "metadata": {
    "collapsed": false
   }
  },
  {
   "cell_type": "code",
   "execution_count": null,
   "outputs": [],
   "source": [
    "from rocelib.datasets.ExampleDatasets import get_example_dataset\n",
    "from rocelib.tasks.TaskBuilder import TaskBuilder\n",
    "# Get your dataset\n",
    "dl = get_example_dataset(\"ionosphere\")\n",
    "# Preprocess\n",
    "dl.default_preprocess()"
   ],
   "metadata": {
    "collapsed": false
   }
  },
  {
   "cell_type": "markdown",
   "source": [
    "# Using a simple neural net from RoCELib\n",
    "You can use a simple neural network which is created and trained within our library. We support Pytorch, Keras and Sklearn models:"
   ],
   "metadata": {
    "collapsed": false
   }
  },
  {
   "cell_type": "code",
   "execution_count": null,
   "outputs": [],
   "source": [
    "#Pytorch Model\n",
    "ct = TaskBuilder().add_pytorch_model(34, [8], 1, dl).add_data(dl).build()\n",
    "\n",
    "#Keras Model\n",
    "ct = TaskBuilder().add_keras_model(34, [8], 1, dl).add_data(dl).build()\n",
    "\n",
    "#Sklearn Model\n",
    "#For sklearn instead of passing in the model dimension, you pass the model type:\n",
    "#\"decision tree\", \"logistic regression\" or \"svm\":\n",
    "ct = TaskBuilder().add_sklearn_model(\"decision tree\", dl).add_data(dl).build()"
   ],
   "metadata": {
    "collapsed": false,
    "is_executing": true
   }
  },
  {
   "cell_type": "markdown",
   "source": [
    "The default task type is a classification task but you can adjust this using the TaskBuilder's ```set_task_type``` function"
   ],
   "metadata": {
    "collapsed": false
   }
  },
  {
   "cell_type": "markdown",
   "source": [
    "# Importing your own Model\n",
    "You can import your own pretrained Pytorch, Keras or Sklearn model to use in our library for recourse generation/evaluation"
   ],
   "metadata": {
    "collapsed": false
   }
  },
  {
   "cell_type": "markdown",
   "source": [
    "# Importing a Pytorch Model\n",
    "\n",
    "To import a .pt or .pth file:\n",
    "You must save your entire model, rather than just the state dictionary i.e. do:\n",
    "torch.save(model, \"./model.pt”)\n",
    "Rather than: torch.save(model.state_dict(), \"./model.pt”)\n",
    "To then load it into our library you can create a task using the ```add_model_from_path``` function:"
   ],
   "metadata": {
    "collapsed": false
   }
  },
  {
   "cell_type": "code",
   "execution_count": null,
   "outputs": [],
   "source": [
    "ct = TaskBuilder().add_model_from_path(\"model.pt\").add_data(dl).build()"
   ],
   "metadata": {
    "collapsed": false,
    "is_executing": true
   }
  },
  {
   "cell_type": "markdown",
   "source": [
    "# Importing a Keras Model\n",
    "\n",
    "Use the ```add_model_from_path()``` function, providing a .keras file"
   ],
   "metadata": {
    "collapsed": false
   }
  },
  {
   "cell_type": "code",
   "execution_count": null,
   "outputs": [],
   "source": [
    "ct = TaskBuilder().add_model_from_path(\"model.keras\").add_data(dl).build()"
   ],
   "metadata": {
    "collapsed": false,
    "is_executing": true
   }
  },
  {
   "cell_type": "markdown",
   "source": [
    "# Importing a Sklearn Model\n",
    "\n",
    "Use the ```add_model_from_path()``` function, providing a .pkl file"
   ],
   "metadata": {
    "collapsed": false
   }
  },
  {
   "cell_type": "code",
   "execution_count": null,
   "outputs": [],
   "source": [
    "ct = TaskBuilder().add_model_from_path(\"model.pkl\").add_data(dl).build()"
   ],
   "metadata": {
    "collapsed": false,
    "is_executing": true
   }
  },
  {
   "cell_type": "markdown",
   "source": [
    "You can now do the following:"
   ],
   "metadata": {
    "collapsed": false
   }
  },
  {
   "cell_type": "code",
   "execution_count": null,
   "outputs": [],
   "source": [
    "# Get a random positive instance from the dataset, used in BinaryLinearSearch, this is\n",
    "# defined here, as well as in DatasetLoader, because we may need an instance that is not\n",
    "# only positive within the dataset but predicted positive by the model too\n",
    "pos = ct.get_random_positive_instance(neg_value=0)\n",
    "\n",
    "print(pos)"
   ],
   "metadata": {
    "collapsed": false,
    "is_executing": true
   }
  },
  {
   "cell_type": "code",
   "execution_count": null,
   "outputs": [],
   "source": [],
   "metadata": {
    "collapsed": false
   }
  }
 ],
 "metadata": {
  "kernelspec": {
   "display_name": "Python 3",
   "language": "python",
   "name": "python3"
  },
  "language_info": {
   "codemirror_mode": {
    "name": "ipython",
    "version": 2
   },
   "file_extension": ".py",
   "mimetype": "text/x-python",
   "name": "python",
   "nbconvert_exporter": "python",
   "pygments_lexer": "ipython2",
   "version": "2.7.6"
  }
 },
 "nbformat": 4,
 "nbformat_minor": 0
}
