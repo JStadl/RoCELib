{
 "cells": [
  {
   "cell_type": "markdown",
   "metadata": {
    "collapsed": false
   },
   "source": [
    "# Tasks\n",
    "\n",
    "Tasks are the basis of this library. A task is just a pair of a DatasetLoader and TrainableModel. Currently,\n",
    "we only support \"ClassificationTask\"s. Here is how you create one:"
   ]
  },
  {
   "cell_type": "code",
   "metadata": {
    "collapsed": false,
    "ExecuteTime": {
     "end_time": "2025-02-04T10:27:17.921672Z",
     "start_time": "2025-02-04T10:27:13.034070Z"
    }
   },
   "source": [
    "from rocelib.tasks.ClassificationTask import ClassificationTask\n",
    "from rocelib.models.pytorch_models.TrainablePyTorchModel import TrainablePyTorchModel\n",
    "from rocelib.datasets.ExampleDatasets import get_example_dataset\n",
    "\n",
    "# Get your dataset\n",
    "dl = get_example_dataset(\"ionosphere\")\n",
    "\n",
    "# Preprocess\n",
    "dl.default_preprocess()\n",
    "\n",
    "\n",
    "# Get your model\n",
    "model = TrainablePyTorchModel(34, [10, 8], 1)\n",
    "\n",
    "model.train(dl)\n",
    "\n",
    "task = ClassificationTask(model, dl)"
   ],
   "outputs": [
    {
     "ename": "NameError",
     "evalue": "name 'epochs' is not defined",
     "output_type": "error",
     "traceback": [
      "\u001B[0;31m---------------------------------------------------------------------------\u001B[0m",
      "\u001B[0;31mNameError\u001B[0m                                 Traceback (most recent call last)",
      "Cell \u001B[0;32mIn[1], line 15\u001B[0m\n\u001B[1;32m     12\u001B[0m \u001B[38;5;66;03m# Get your model\u001B[39;00m\n\u001B[1;32m     13\u001B[0m model \u001B[38;5;241m=\u001B[39m TrainablePyTorchModel(\u001B[38;5;241m34\u001B[39m, [\u001B[38;5;241m10\u001B[39m, \u001B[38;5;241m8\u001B[39m], \u001B[38;5;241m1\u001B[39m)\n\u001B[0;32m---> 15\u001B[0m \u001B[43mmodel\u001B[49m\u001B[38;5;241;43m.\u001B[39;49m\u001B[43mtrain\u001B[49m\u001B[43m(\u001B[49m\u001B[43mdl\u001B[49m\u001B[43m)\u001B[49m\n\u001B[1;32m     17\u001B[0m task \u001B[38;5;241m=\u001B[39m ClassificationTask(model, dl)\n",
      "File \u001B[0;32m~/Documents/RoCELib/rocelib/models/pytorch_models/TrainablePyTorchModel.py:107\u001B[0m, in \u001B[0;36mTrainablePyTorchModel.train\u001B[0;34m(self, dataset_loader, **kwargs)\u001B[0m\n\u001B[1;32m    105\u001B[0m X_tensor \u001B[38;5;241m=\u001B[39m torch\u001B[38;5;241m.\u001B[39mtensor(X\u001B[38;5;241m.\u001B[39mvalues, dtype\u001B[38;5;241m=\u001B[39mtorch\u001B[38;5;241m.\u001B[39mfloat32)\n\u001B[1;32m    106\u001B[0m y_tensor \u001B[38;5;241m=\u001B[39m torch\u001B[38;5;241m.\u001B[39mtensor(y\u001B[38;5;241m.\u001B[39mvalues, dtype\u001B[38;5;241m=\u001B[39mtorch\u001B[38;5;241m.\u001B[39mfloat32)\u001B[38;5;241m.\u001B[39mview(\u001B[38;5;241m-\u001B[39m\u001B[38;5;241m1\u001B[39m, \u001B[38;5;241m1\u001B[39m)\n\u001B[0;32m--> 107\u001B[0m \u001B[38;5;28;01mfor\u001B[39;00m epoch \u001B[38;5;129;01min\u001B[39;00m \u001B[38;5;28mrange\u001B[39m(\u001B[43mepochs\u001B[49m):\n\u001B[1;32m    108\u001B[0m     \u001B[38;5;28mself\u001B[39m\u001B[38;5;241m.\u001B[39moptimizer\u001B[38;5;241m.\u001B[39mzero_grad()\n\u001B[1;32m    109\u001B[0m     outputs \u001B[38;5;241m=\u001B[39m \u001B[38;5;28mself\u001B[39m\u001B[38;5;241m.\u001B[39m_model(X_tensor)\n",
      "\u001B[0;31mNameError\u001B[0m: name 'epochs' is not defined"
     ]
    }
   ],
   "execution_count": 1
  },
  {
   "cell_type": "markdown",
   "metadata": {
    "collapsed": false
   },
   "source": [
    "You can now do the following:"
   ]
  },
  {
   "cell_type": "code",
   "execution_count": 3,
   "metadata": {
    "collapsed": false
   },
   "outputs": [
    {
     "name": "stdout",
     "output_type": "stream",
     "text": [
      "     feature_0  feature_1  feature_2  feature_3  feature_4  feature_5  \\\n",
      "333   0.348433        0.0   0.671608  -0.084554   0.741104  -0.209385   \n",
      "\n",
      "     feature_6  feature_7  feature_8  feature_9  ...  feature_24  feature_25  \\\n",
      "333   0.914531  -0.191959   0.950052  -0.342237  ...    1.017743    0.210148   \n",
      "\n",
      "     feature_26  feature_27  feature_28  feature_29  feature_30  feature_31  \\\n",
      "333    0.841485    0.244533    0.991271    0.216101    1.119049    0.128624   \n",
      "\n",
      "     feature_32  feature_33  \n",
      "333      1.2262    0.181731  \n",
      "\n",
      "[1 rows x 34 columns]\n"
     ]
    }
   ],
   "source": [
    "# Get a random positive instance from the dataset, used in BinaryLinearSearch, this is\n",
    "# defined here, as well as in DatasetLoader, because we may need an instance that is not\n",
    "# only positive within the dataset but predicted positive by the model too\n",
    "pos = task.get_random_positive_instance(neg_value=0)\n",
    "\n",
    "print(pos)"
   ]
  }
 ],
 "metadata": {
  "kernelspec": {
   "display_name": "Python 3",
   "language": "python",
   "name": "python3"
  },
  "language_info": {
   "codemirror_mode": {
    "name": "ipython",
    "version": 2
   },
   "file_extension": ".py",
   "mimetype": "text/x-python",
   "name": "python",
   "nbconvert_exporter": "python",
   "pygments_lexer": "ipython2",
   "version": "2.7.6"
  }
 },
 "nbformat": 4,
 "nbformat_minor": 0
}
