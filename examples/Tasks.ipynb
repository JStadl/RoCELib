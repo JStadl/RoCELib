{
 "cells": [
  {
   "cell_type": "markdown",
   "source": [
    "# Tasks\n",
    "\n",
    "Tasks are the basis of this library. A task is just a pair of a DatasetLoader and TrainableModel. Currently,\n",
    "we only support \"ClassificationTask\"s. Here is how you create one:"
   ],
   "metadata": {
    "collapsed": false
   }
  },
  {
   "cell_type": "code",
   "execution_count": 1,
   "outputs": [],
   "source": [
    "from rocelib.tasks.ClassificationTask import ClassificationTask\n",
    "from rocelib.models.pytorch_models.TrainablePyTorchModel import TrainablePyTorchModel\n",
    "from rocelib.datasets.ExampleDatasets import get_example_dataset\n",
    "\n",
    "# Get your dataset\n",
    "dl = get_example_dataset(\"ionosphere\")\n",
    "\n",
    "# Preprocess\n",
    "dl.default_preprocess()\n",
    "\n",
    "# Get your model\n",
    "model = TrainablePyTorchModel(34, [10, 8], 1)\n",
    "\n",
    "task = ClassificationTask(model, dl)"
   ],
   "metadata": {
    "collapsed": false
   }
  },
  {
   "cell_type": "markdown",
   "source": [
    "You can now do the following:"
   ],
   "metadata": {
    "collapsed": false
   }
  },
  {
   "cell_type": "code",
   "execution_count": 3,
   "outputs": [
    {
     "name": "stdout",
     "output_type": "stream",
     "text": [
      "     feature_0  feature_1  feature_2  feature_3  feature_4  feature_5  \\\n",
      "333   0.348433        0.0   0.671608  -0.084554   0.741104  -0.209385   \n",
      "\n",
      "     feature_6  feature_7  feature_8  feature_9  ...  feature_24  feature_25  \\\n",
      "333   0.914531  -0.191959   0.950052  -0.342237  ...    1.017743    0.210148   \n",
      "\n",
      "     feature_26  feature_27  feature_28  feature_29  feature_30  feature_31  \\\n",
      "333    0.841485    0.244533    0.991271    0.216101    1.119049    0.128624   \n",
      "\n",
      "     feature_32  feature_33  \n",
      "333      1.2262    0.181731  \n",
      "\n",
      "[1 rows x 34 columns]\n"
     ]
    }
   ],
   "source": [
    "# Get the model\n",
    "model = task.model\n",
    "\n",
    "# Get the data\n",
    "dl = task.training_data\n",
    "\n",
    "# Train the model on the data, ensure the model is suited to the data's dimensions\n",
    "# and types, including being suitably preprocessed\n",
    "task.train()\n",
    "\n",
    "# Get a random positive instance from the dataset, used in BinaryLinearSearch, this is\n",
    "# defined here, as well as in DatasetLoader, because we may need an instance that is not\n",
    "# only positive within the dataset but predicted positive by the model too\n",
    "pos = task.get_random_positive_instance(neg_value=0)\n",
    "\n",
    "print(pos)"
   ],
   "metadata": {
    "collapsed": false
   }
  }
 ],
 "metadata": {
  "kernelspec": {
   "display_name": "Python 3",
   "language": "python",
   "name": "python3"
  },
  "language_info": {
   "codemirror_mode": {
    "name": "ipython",
    "version": 2
   },
   "file_extension": ".py",
   "mimetype": "text/x-python",
   "name": "python",
   "nbconvert_exporter": "python",
   "pygments_lexer": "ipython2",
   "version": "2.7.6"
  }
 },
 "nbformat": 4,
 "nbformat_minor": 0
}
