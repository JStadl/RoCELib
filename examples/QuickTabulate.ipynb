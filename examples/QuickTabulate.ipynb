{
 "cells": [
  {
   "cell_type": "markdown",
   "source": [
    "# Benchmarking different methods\n",
    "\n",
    "The library provides various evaluation methods for benchmarking methods. Here are some below:"
   ],
   "metadata": {
    "collapsed": false
   }
  },
  {
   "cell_type": "code",
   "execution_count": null,
   "outputs": [],
   "source": [
    "from tasks.ClassificationTask import ClassificationTask\n",
    "from recourse_methods.BinaryLinearSearch import BinaryLinearSearch\n",
    "from models.pytorch_models.SimpleNNModel import SimpleNNModel\n",
    "from datasets.ExampleDatasets import get_example_dataset\n",
    "from evaluations.DistanceEvaluator import DistanceEvaluator\n",
    "\n",
    "dl = get_example_dataset(\"ionosphere\")\n",
    "dl.default_preprocess()\n",
    "model = SimpleNNModel(34, [10], 1)\n",
    "\n",
    "task = ClassificationTask(model, dl)\n",
    "\n",
    "generator = BinaryLinearSearch(task)\n",
    "\n",
    "recourses = generator.generate_for_all(neg_value=0)\n",
    "\n",
    "distance_eval = DistanceEvaluator(task)\n",
    "\n",
    "distance_eval.evaluate(recourses)"
   ],
   "metadata": {
    "collapsed": false
   }
  }
 ],
 "metadata": {
  "kernelspec": {
   "display_name": "Python 3",
   "language": "python",
   "name": "python3"
  },
  "language_info": {
   "codemirror_mode": {
    "name": "ipython",
    "version": 2
   },
   "file_extension": ".py",
   "mimetype": "text/x-python",
   "name": "python",
   "nbconvert_exporter": "python",
   "pygments_lexer": "ipython2",
   "version": "2.7.6"
  }
 },
 "nbformat": 4,
 "nbformat_minor": 0
}
